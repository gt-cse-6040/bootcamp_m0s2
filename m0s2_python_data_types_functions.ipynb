{
  "cells": [
    {
      "cell_type": "markdown",
      "metadata": {
        "id": "view-in-github",
        "colab_type": "text"
      },
      "source": [
        "<a href=\"https://colab.research.google.com/github/gt-cse-6040/bootcamp_m0s2/blob/main/m0s2_python_data_types_functions.ipynb\" target=\"_parent\"><img src=\"https://colab.research.google.com/assets/colab-badge.svg\" alt=\"Open In Colab\"/></a>"
      ]
    },
    {
      "cell_type": "markdown",
      "id": "945c9b8f",
      "metadata": {
        "id": "945c9b8f"
      },
      "source": [
        "# Python Functions and Scalar Data Types"
      ]
    },
    {
      "cell_type": "markdown",
      "id": "ff96c14e",
      "metadata": {
        "id": "ff96c14e"
      },
      "source": [
        "### Functions\n",
        "\n",
        "#### Python functions enable us to write reusable code and define our own algorithms.\n",
        "\n",
        "#### We will use functions from the very first homework notebook, and almost every exam exercise will involve creating a function to solve the exercise."
      ]
    },
    {
      "cell_type": "markdown",
      "id": "633f54f6",
      "metadata": {
        "id": "633f54f6"
      },
      "source": [
        "### Function syntax is as follows:\n",
        "\n",
        "#### Define the function:\n",
        "\n",
        "`def function_name (input parameters):`\n",
        "    \n",
        "    code to execute within the function\n",
        "    \n",
        "    return statement\n",
        "    \n",
        "#### Call the function:\n",
        "\n",
        "`return_value = function_name(parameters)`\n",
        "\n",
        "![functions.png](https://github.com/gt-cse-6040/bootcamp_m0s2/blob/main/functions.png?raw=1)"
      ]
    },
    {
      "cell_type": "markdown",
      "id": "57aef72e",
      "metadata": {
        "id": "57aef72e"
      },
      "source": [
        "Input variables can be required or optional, and they can also have default values.\n",
        "\n",
        "If a variable has a default value, then it will take on that value in the function, if an actual value is not passed into it."
      ]
    },
    {
      "cell_type": "code",
      "execution_count": null,
      "id": "4a6787de",
      "metadata": {
        "id": "4a6787de"
      },
      "outputs": [],
      "source": [
        "def raise_to_power(input_number, power = 2):\n",
        "\n",
        "    result = input_number ** power\n",
        "\n",
        "    return result"
      ]
    },
    {
      "cell_type": "code",
      "execution_count": null,
      "id": "373703c2",
      "metadata": {
        "id": "373703c2"
      },
      "outputs": [],
      "source": [
        "# call the function, do not pass in a power variable\n",
        "power_value = raise_to_power(5)\n",
        "power_value"
      ]
    },
    {
      "cell_type": "code",
      "execution_count": null,
      "id": "d0242fe9",
      "metadata": {
        "id": "d0242fe9"
      },
      "outputs": [],
      "source": [
        "# call the function, do not pass in a power variable\n",
        "power_value2 = raise_to_power(5,3)\n",
        "power_value2"
      ]
    },
    {
      "cell_type": "markdown",
      "id": "c5b467a5",
      "metadata": {
        "id": "c5b467a5"
      },
      "source": [
        "One issue that students traditionally have is using `print()` instead of `return`.\n",
        "\n",
        "`print()` will output something to the screen, and the student will see it displayed.\n",
        "\n",
        "The student thinks that `print()` has given the required result. However, only `return` actually enables the notebook to work with the output value of the function."
      ]
    },
    {
      "cell_type": "markdown",
      "id": "30f4adf7",
      "metadata": {
        "id": "30f4adf7"
      },
      "source": [
        "#### Here is a good page on working with functions:  https://www.geeksforgeeks.org/python-functions/\n",
        "\n",
        "Questions on functions?"
      ]
    },
    {
      "cell_type": "markdown",
      "id": "4a9bd493",
      "metadata": {
        "id": "4a9bd493"
      },
      "source": [
        "### Mutable and immutable objects\n",
        "Many objects in Python, such as lists, dictionaries, NumPy arrays, and most user-defined types (classes), are mutable. This means that the object or values that they contain can be modified.\n",
        "\n",
        "Others, like strings and tuples, are immutable, which means their internal data cannot be changed."
      ]
    },
    {
      "cell_type": "markdown",
      "id": "56e6eb88",
      "metadata": {
        "id": "56e6eb88"
      },
      "source": [
        "### Scalar Types\n",
        "Python has a small set of built-in types for handling numerical data, strings, Boolean (True or False) values, and dates and time. These \"single value\" types are sometimes called scalar types, and we refer to them as scalars, or simply as data types.\n",
        "\n",
        "The main data types we will be working with in the class are `None`, `bool`, `int`, `float`, and `str`.\n",
        "\n",
        "#### Python Documentation page for standard types:  https://docs.python.org/3/library/stdtypes.html#  (Note the Table of Contents on the left, to jump directly to the desired topic.)\n",
        "\n",
        "![data_types.png](https://github.com/gt-cse-6040/bootcamp_m0s2/blob/main/data_types.png?raw=1)"
      ]
    },
    {
      "cell_type": "markdown",
      "id": "cb85c5ad",
      "metadata": {
        "id": "cb85c5ad"
      },
      "source": [
        "#### None\n",
        "`None` is the Python null value type."
      ]
    },
    {
      "cell_type": "code",
      "execution_count": null,
      "id": "8ffe33dd",
      "metadata": {
        "id": "8ffe33dd"
      },
      "outputs": [],
      "source": [
        "var_none = None\n",
        "display(var_none is None)\n",
        "\n",
        "var_not_none = 5\n",
        "display(var_not_none is not None)"
      ]
    },
    {
      "cell_type": "markdown",
      "id": "ae87c32d",
      "metadata": {
        "id": "ae87c32d"
      },
      "source": [
        "#### Booleans\n",
        "The two Boolean values in Python are written as `True` and `False`. Comparisons and other conditional expressions evaluate to either `True` or `False`. Boolean values can be combined with the `and` and `or` keywords:"
      ]
    },
    {
      "cell_type": "code",
      "execution_count": null,
      "id": "d773e7ed",
      "metadata": {
        "id": "d773e7ed"
      },
      "outputs": [],
      "source": [
        "display(True and True)\n",
        "display(False or True)"
      ]
    },
    {
      "cell_type": "markdown",
      "id": "e3e58d81",
      "metadata": {
        "id": "e3e58d81"
      },
      "source": [
        "When converted to numbers, `False` becomes 0 and `True` becomes 1:"
      ]
    },
    {
      "cell_type": "code",
      "execution_count": null,
      "id": "53249dd2",
      "metadata": {
        "id": "53249dd2"
      },
      "outputs": [],
      "source": [
        "display(int(False))\n",
        "display(int(True))"
      ]
    },
    {
      "cell_type": "markdown",
      "id": "0c3e5d42",
      "metadata": {
        "id": "0c3e5d42"
      },
      "source": [
        "The keyword `not` flips a Boolean value from True to False or vice versa:"
      ]
    },
    {
      "cell_type": "code",
      "execution_count": null,
      "id": "5b052f22",
      "metadata": {
        "id": "5b052f22"
      },
      "outputs": [],
      "source": [
        "a = True\n",
        "b = False\n",
        "\n",
        "display(not a)\n",
        "display(not b)"
      ]
    },
    {
      "cell_type": "markdown",
      "id": "29bc922e",
      "metadata": {
        "id": "29bc922e"
      },
      "source": [
        "#### Numeric types\n",
        "The primary Python types for numbers are `int` and `float`.\n",
        "\n",
        "Floating-point numbers are represented with the Python float type. We will be looking at floats in detail in Homework Notebook 4, so will not cover them in detail here.\n",
        "\n",
        "Integers can be very large numbers."
      ]
    },
    {
      "cell_type": "code",
      "execution_count": null,
      "id": "fb44b849",
      "metadata": {
        "id": "fb44b849"
      },
      "outputs": [],
      "source": [
        "int_val = 648903229\n",
        "# use the ** to raise a number to that power\n",
        "int_val ** 8"
      ]
    },
    {
      "cell_type": "markdown",
      "id": "51aa3dfe",
      "metadata": {
        "id": "51aa3dfe"
      },
      "source": [
        "#### Strings\n",
        "Python has extensive built-in string handling capabilities.\n",
        "\n",
        "You can write string literals using either single quotes ' or double quotes \".\n",
        "\n",
        "The Python string type is `str`.\n",
        "\n",
        "For multiline strings with line breaks, you can use triple quotes, either ''' or \"\"\"."
      ]
    },
    {
      "cell_type": "markdown",
      "id": "89738a77",
      "metadata": {
        "id": "89738a77"
      },
      "source": [
        "#### String processing in this class includes both Python string manipulation functions and using regex.\n",
        "\n",
        "#### We will cover the former here and the latter in a future bootcamp session.\n",
        "\n",
        "#### Homework notebook 5 is where regex is introduced as a graded topic."
      ]
    },
    {
      "cell_type": "code",
      "execution_count": null,
      "id": "e237f14f",
      "metadata": {
        "id": "e237f14f"
      },
      "outputs": [],
      "source": [
        "single_str = 'string using single quotes '\n",
        "double_str = \"string using double quotes\"\n",
        "\n",
        "multi_line_str = \"\"\"\n",
        "This is a longer string that\n",
        "contains multiple lines\n",
        "\"\"\""
      ]
    },
    {
      "cell_type": "markdown",
      "id": "3fe429b6",
      "metadata": {
        "id": "3fe429b6"
      },
      "source": [
        "Strings are a sequence of characters and therefore can be treated like other sequences, such as lists and tuples.\n",
        "\n",
        "The individual elements in a string can be addressed by their position.\n",
        "\n",
        "Note that Python uses square bracket notation in addressing individual elements of an object/variable."
      ]
    },
    {
      "cell_type": "code",
      "execution_count": null,
      "id": "1437a55e",
      "metadata": {
        "id": "1437a55e"
      },
      "outputs": [],
      "source": [
        "# Python uses zero-based addressing, so the element below\n",
        "# is actually the 11th element in the string.\n",
        "single_str[10]"
      ]
    },
    {
      "cell_type": "markdown",
      "id": "b73d24d5",
      "metadata": {
        "id": "b73d24d5"
      },
      "source": [
        "Python strings are immutable, so you cannot modify a string."
      ]
    },
    {
      "cell_type": "code",
      "execution_count": null,
      "id": "678697c7",
      "metadata": {
        "id": "678697c7"
      },
      "outputs": [],
      "source": [
        "# this will throw an error, uncomment to illustrate\n",
        "# single_str[10] = 'z'"
      ]
    },
    {
      "cell_type": "markdown",
      "id": "4abb82fb",
      "metadata": {
        "id": "4abb82fb"
      },
      "source": [
        "Adding two strings together concatenates them and produces a new string."
      ]
    },
    {
      "cell_type": "code",
      "execution_count": null,
      "id": "4469116c",
      "metadata": {
        "id": "4469116c"
      },
      "outputs": [],
      "source": [
        "single_str + double_str"
      ]
    },
    {
      "cell_type": "markdown",
      "id": "139b8aea",
      "metadata": {
        "id": "139b8aea"
      },
      "source": [
        "### String documentation pages -- bookmark these for reference throughout the class.\n",
        "\n",
        "#### Main documentation page:  https://docs.python.org/3/library/string.html\n",
        "\n",
        "#### String methods:  https://docs.python.org/3/library/stdtypes.html#string-methods"
      ]
    },
    {
      "cell_type": "markdown",
      "id": "a7cb3c9f",
      "metadata": {
        "id": "a7cb3c9f"
      },
      "source": [
        "### String formatting\n",
        "\n",
        "This is a relatively new feature in Python, and it will be useful throughout the class. You will see string formatting exercises on multiple midterm practice problems (previous semester exams), and it is likely that you will need to do this on at least one of your exams in the class.\n",
        "\n",
        "There are two main ways of doing string formatting:  str.format() method, and f-strings. You will see examples of each throughout the class. It would be good for students to have an understanding of each method.\n",
        "\n",
        "`str.format()` method:  https://docs.python.org/3/library/string.html#format-string-syntax\n",
        "\n",
        "`f-strings`:  https://docs.python.org/3/tutorial/inputoutput.html"
      ]
    },
    {
      "cell_type": "markdown",
      "id": "896dea73",
      "metadata": {
        "id": "896dea73"
      },
      "source": [
        "#### Both string formatting methods use a substitution paradigm. The portions of the string to be substituted in are enclosed in squiggly brackets `{}` and those values are passed to the method when printing or displaying."
      ]
    },
    {
      "cell_type": "markdown",
      "id": "1160148b",
      "metadata": {
        "id": "1160148b"
      },
      "source": [
        "`format()` is a method of a string. The manner of calling it is to define a string template that includes the required substitutions, then calling the `format()` method, passing in the desired text to be substituted in."
      ]
    },
    {
      "cell_type": "code",
      "execution_count": null,
      "id": "210d5459",
      "metadata": {
        "id": "210d5459"
      },
      "outputs": [],
      "source": [
        "# define the template\n",
        "string_template = \"{} is the professor for the class {}.\"\n",
        "string_template.format(\"Professor Vuduc\", \"CSE6040\")"
      ]
    },
    {
      "cell_type": "code",
      "execution_count": null,
      "id": "3610d5ed",
      "metadata": {
        "id": "3610d5ed"
      },
      "outputs": [],
      "source": [
        "string_template2 = \"To achieve an A in {}, students must attain {:.2%} or higher.\"\n",
        "string_template2.format(\"CSE6040\", .9)\n",
        "\n",
        "# {:.2%} means to format the argument as a floating-point percentage with two decimal places.\n",
        "# See the documentation for different formatting options."
      ]
    },
    {
      "cell_type": "markdown",
      "id": "ba5ceaf6",
      "metadata": {
        "id": "ba5ceaf6"
      },
      "source": [
        "`f-strings` use substitution, but in the opposite order than `format()`.\n",
        "\n",
        "First define the variables (and values) to be substituted in, then the `f-string` itself."
      ]
    },
    {
      "cell_type": "code",
      "execution_count": null,
      "id": "c14efd0e",
      "metadata": {
        "id": "c14efd0e"
      },
      "outputs": [],
      "source": [
        "professor = \"Professor Vuduc\"\n",
        "OMSA_class = \"CSE6040\"\n",
        "\n",
        "result = f\"{professor} is the professor for the class {OMSA_class}.\"\n",
        "result"
      ]
    },
    {
      "cell_type": "markdown",
      "id": "290b3a18",
      "metadata": {
        "id": "290b3a18"
      },
      "source": [
        "#### Below are some common string functions that students will be required to use in the class. See the documentation for examples of how to use them.\n",
        "\n",
        "`upper()` and `lower()`\n",
        "\n",
        "`split()` and `join()`\n",
        "\n",
        "`replace()`\n",
        "\n",
        "`count()`\n",
        "\n",
        "`find()`\n",
        "\n",
        "`is*()` functions\n",
        "\n",
        "`strip()` and `lstrip()` and `rstrip()`\n",
        "\n",
        "various sorting methods\n"
      ]
    },
    {
      "cell_type": "markdown",
      "id": "b6066124",
      "metadata": {
        "id": "b6066124"
      },
      "source": [
        "#### Now let's look at a couple of example string manipulation exercises.\n",
        "\n",
        "#### We will do More Python Exercises Notebook 6, and More Python Exercises Notebook 7, exercises 0 and 1.\n",
        "\n",
        "#### The actual working notebooks are in Vocareum (see Canvas/edX for link).\n",
        "\n",
        "#### We provide the Google Colab notebooks with solutions for the students to reference."
      ]
    },
    {
      "cell_type": "code",
      "execution_count": null,
      "id": "c4a5b3ee",
      "metadata": {
        "id": "c4a5b3ee"
      },
      "outputs": [],
      "source": []
    }
  ],
  "metadata": {
    "kernelspec": {
      "display_name": "Python 3 (ipykernel)",
      "language": "python",
      "name": "python3"
    },
    "language_info": {
      "codemirror_mode": {
        "name": "ipython",
        "version": 3
      },
      "file_extension": ".py",
      "mimetype": "text/x-python",
      "name": "python",
      "nbconvert_exporter": "python",
      "pygments_lexer": "ipython3",
      "version": "3.9.13"
    },
    "colab": {
      "provenance": [],
      "include_colab_link": true
    }
  },
  "nbformat": 4,
  "nbformat_minor": 5
}